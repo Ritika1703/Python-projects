{
 "cells": [
  {
   "cell_type": "code",
   "execution_count": 2,
   "id": "90b179ef",
   "metadata": {},
   "outputs": [],
   "source": [
    "import random"
   ]
  },
  {
   "cell_type": "code",
   "execution_count": 8,
   "id": "cdcd29a1",
   "metadata": {},
   "outputs": [],
   "source": [
    "secret=random.randint(1,20)"
   ]
  },
  {
   "cell_type": "code",
   "execution_count": 9,
   "id": "b36230a0",
   "metadata": {},
   "outputs": [],
   "source": [
    "guess=0"
   ]
  },
  {
   "cell_type": "code",
   "execution_count": 10,
   "id": "8aee9c4e",
   "metadata": {},
   "outputs": [
    {
     "name": "stdout",
     "output_type": "stream",
     "text": [
      "too low!\n",
      "too low!\n",
      "Too high!\n",
      "Too high!\n",
      "You got it!, its 14\n"
     ]
    }
   ],
   "source": [
    "while guess!=secret:\n",
    "    guess=int(input(\"enter a number from 1-20:\"))\n",
    "    if guess<secret:\n",
    "        print(\"too low!\")\n",
    "    elif guess>secret:\n",
    "        print(\"Too high!\")\n",
    "    else:\n",
    "        print(f\"You got it!, its {guess}\")"
   ]
  },
  {
   "cell_type": "code",
   "execution_count": null,
   "id": "7348401f",
   "metadata": {},
   "outputs": [],
   "source": []
  },
  {
   "cell_type": "code",
   "execution_count": null,
   "id": "0dc99b1f",
   "metadata": {},
   "outputs": [],
   "source": []
  }
 ],
 "metadata": {
  "kernelspec": {
   "display_name": "base",
   "language": "python",
   "name": "python3"
  },
  "language_info": {
   "codemirror_mode": {
    "name": "ipython",
    "version": 3
   },
   "file_extension": ".py",
   "mimetype": "text/x-python",
   "name": "python",
   "nbconvert_exporter": "python",
   "pygments_lexer": "ipython3",
   "version": "3.12.4"
  }
 },
 "nbformat": 4,
 "nbformat_minor": 5
}
